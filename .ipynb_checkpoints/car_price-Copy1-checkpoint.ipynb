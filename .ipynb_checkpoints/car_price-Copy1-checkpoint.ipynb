{
 "cells": [
  {
   "cell_type": "markdown",
   "metadata": {},
   "source": [
    "# What drives the price of a car?\n",
    "\n",
    "![](images/kurt.jpeg)"
   ]
  },
  {
   "cell_type": "markdown",
   "metadata": {},
   "source": [
    "**OVERVIEW**\n",
    "\n",
    "In this application, you will explore a dataset from kaggle that contains information on 3 million used cars.  Your goal is to understand what factors make a car more or less expensive.  As a result of your analysis, you should provide clear recommendations to your client -- a used car dealership -- as to what consumers value in a used car."
   ]
  },
  {
   "cell_type": "markdown",
   "metadata": {},
   "source": [
    "### CRISP-DM Framework\n",
    "\n",
    "<center>\n",
    "    <img src = images/crisp.png width = 50%/>\n",
    "</center>\n",
    "\n",
    "\n",
    "To frame the task, throughout our practical applications we will refer back to a standard process in industry for data projects called CRISP-DM.  This process provides a framework for working through a data problem.  Your first step in this application will be to read through a brief overview of CRISP-DM [here](https://mo-pcco.s3.us-east-1.amazonaws.com/BH-PCMLAI/module_11/readings_starter.zip).  After reading the overview, answer the questions below."
   ]
  },
  {
   "cell_type": "markdown",
   "metadata": {},
   "source": [
    "### Business Understanding\n"
   ]
  },
  {
   "cell_type": "markdown",
   "metadata": {},
   "source": [
    "#### Background: \n",
    "Jimmy's Auto Group operates a series of car dealerships across New England. In recent years, they have been experiencing steadily increasing car inventory costs. The owners need to know which cars have the potential to yield the best profit magins in order to properly offset these costs and continue increasing profits.   The owners are looking to find which factors influence car cost in order to make the best choices as to which cars they should buy and keep in inventory. "
   ]
  },
  {
   "cell_type": "markdown",
   "metadata": {},
   "source": [
    "#### Business Objectives: \n",
    " - Fine-tune Car Inventory in order to maximize profits while minimizing costs.\n"
   ]
  },
  {
   "cell_type": "markdown",
   "metadata": {},
   "source": [
    "#### Desired Outcome: \n",
    " - Understand which factors most influence the value of a used car."
   ]
  },
  {
   "cell_type": "markdown",
   "metadata": {},
   "source": [
    "### Data Understanding\n",
    "\n",
    "After considering the business understanding, we want to get familiar with our data.  Write down some steps that you would take to get to know the dataset and identify any quality issues within.  Take time to get to know the dataset and explore what information it contains and how this could be used to inform your business understanding."
   ]
  },
  {
   "cell_type": "code",
   "execution_count": 673,
   "metadata": {},
   "outputs": [],
   "source": [
    "import pandas as pd\n",
    "import seaborn as sns\n",
    "import numpy as np\n",
    "import plotly.express as px\n",
    "from scipy import stats\n",
    "from sklearn.utils import shuffle\n",
    "import matplotlib.pylab as plt\n",
    "from sklearn.preprocessing import StandardScaler, PolynomialFeatures\n",
    "from sklearn.pipeline import Pipeline\n",
    "from sklearn.linear_model import Lasso, Ridge, LinearRegression\n",
    "from sklearn.metrics import mean_squared_error\n",
    "from sklearn.feature_selection import SequentialFeatureSelector, SelectFromModel\n",
    "from sklearn.model_selection import train_test_split, GridSearchCV\n",
    "import warnings\n",
    "warnings.filterwarnings(\"ignore\")"
   ]
  },
  {
   "cell_type": "code",
   "execution_count": 674,
   "metadata": {
    "scrolled": true
   },
   "outputs": [],
   "source": [
    "df = pd.read_csv('data/vehicles.csv')"
   ]
  },
  {
   "cell_type": "code",
   "execution_count": 675,
   "metadata": {},
   "outputs": [],
   "source": [
    "#create a copy in case you mess up the original dataset\n",
    "orig_df = df.copy()  "
   ]
  },
  {
   "cell_type": "code",
   "execution_count": 676,
   "metadata": {
    "scrolled": true
   },
   "outputs": [
    {
     "data": {
      "text/plain": [
       "(426880, 18)"
      ]
     },
     "execution_count": 676,
     "metadata": {},
     "output_type": "execute_result"
    }
   ],
   "source": [
    "df.shape"
   ]
  },
  {
   "cell_type": "code",
   "execution_count": 677,
   "metadata": {
    "scrolled": false
   },
   "outputs": [
    {
     "data": {
      "text/html": [
       "<div>\n",
       "<style scoped>\n",
       "    .dataframe tbody tr th:only-of-type {\n",
       "        vertical-align: middle;\n",
       "    }\n",
       "\n",
       "    .dataframe tbody tr th {\n",
       "        vertical-align: top;\n",
       "    }\n",
       "\n",
       "    .dataframe thead th {\n",
       "        text-align: right;\n",
       "    }\n",
       "</style>\n",
       "<table border=\"1\" class=\"dataframe\">\n",
       "  <thead>\n",
       "    <tr style=\"text-align: right;\">\n",
       "      <th></th>\n",
       "      <th>id</th>\n",
       "      <th>region</th>\n",
       "      <th>price</th>\n",
       "      <th>year</th>\n",
       "      <th>manufacturer</th>\n",
       "      <th>model</th>\n",
       "      <th>condition</th>\n",
       "      <th>cylinders</th>\n",
       "      <th>fuel</th>\n",
       "      <th>odometer</th>\n",
       "      <th>title_status</th>\n",
       "      <th>transmission</th>\n",
       "      <th>VIN</th>\n",
       "      <th>drive</th>\n",
       "      <th>size</th>\n",
       "      <th>type</th>\n",
       "      <th>paint_color</th>\n",
       "      <th>state</th>\n",
       "    </tr>\n",
       "  </thead>\n",
       "  <tbody>\n",
       "    <tr>\n",
       "      <th>0</th>\n",
       "      <td>7222695916</td>\n",
       "      <td>prescott</td>\n",
       "      <td>6000</td>\n",
       "      <td>NaN</td>\n",
       "      <td>NaN</td>\n",
       "      <td>NaN</td>\n",
       "      <td>NaN</td>\n",
       "      <td>NaN</td>\n",
       "      <td>NaN</td>\n",
       "      <td>NaN</td>\n",
       "      <td>NaN</td>\n",
       "      <td>NaN</td>\n",
       "      <td>NaN</td>\n",
       "      <td>NaN</td>\n",
       "      <td>NaN</td>\n",
       "      <td>NaN</td>\n",
       "      <td>NaN</td>\n",
       "      <td>az</td>\n",
       "    </tr>\n",
       "    <tr>\n",
       "      <th>1</th>\n",
       "      <td>7218891961</td>\n",
       "      <td>fayetteville</td>\n",
       "      <td>11900</td>\n",
       "      <td>NaN</td>\n",
       "      <td>NaN</td>\n",
       "      <td>NaN</td>\n",
       "      <td>NaN</td>\n",
       "      <td>NaN</td>\n",
       "      <td>NaN</td>\n",
       "      <td>NaN</td>\n",
       "      <td>NaN</td>\n",
       "      <td>NaN</td>\n",
       "      <td>NaN</td>\n",
       "      <td>NaN</td>\n",
       "      <td>NaN</td>\n",
       "      <td>NaN</td>\n",
       "      <td>NaN</td>\n",
       "      <td>ar</td>\n",
       "    </tr>\n",
       "    <tr>\n",
       "      <th>2</th>\n",
       "      <td>7221797935</td>\n",
       "      <td>florida keys</td>\n",
       "      <td>21000</td>\n",
       "      <td>NaN</td>\n",
       "      <td>NaN</td>\n",
       "      <td>NaN</td>\n",
       "      <td>NaN</td>\n",
       "      <td>NaN</td>\n",
       "      <td>NaN</td>\n",
       "      <td>NaN</td>\n",
       "      <td>NaN</td>\n",
       "      <td>NaN</td>\n",
       "      <td>NaN</td>\n",
       "      <td>NaN</td>\n",
       "      <td>NaN</td>\n",
       "      <td>NaN</td>\n",
       "      <td>NaN</td>\n",
       "      <td>fl</td>\n",
       "    </tr>\n",
       "    <tr>\n",
       "      <th>3</th>\n",
       "      <td>7222270760</td>\n",
       "      <td>worcester / central MA</td>\n",
       "      <td>1500</td>\n",
       "      <td>NaN</td>\n",
       "      <td>NaN</td>\n",
       "      <td>NaN</td>\n",
       "      <td>NaN</td>\n",
       "      <td>NaN</td>\n",
       "      <td>NaN</td>\n",
       "      <td>NaN</td>\n",
       "      <td>NaN</td>\n",
       "      <td>NaN</td>\n",
       "      <td>NaN</td>\n",
       "      <td>NaN</td>\n",
       "      <td>NaN</td>\n",
       "      <td>NaN</td>\n",
       "      <td>NaN</td>\n",
       "      <td>ma</td>\n",
       "    </tr>\n",
       "    <tr>\n",
       "      <th>4</th>\n",
       "      <td>7210384030</td>\n",
       "      <td>greensboro</td>\n",
       "      <td>4900</td>\n",
       "      <td>NaN</td>\n",
       "      <td>NaN</td>\n",
       "      <td>NaN</td>\n",
       "      <td>NaN</td>\n",
       "      <td>NaN</td>\n",
       "      <td>NaN</td>\n",
       "      <td>NaN</td>\n",
       "      <td>NaN</td>\n",
       "      <td>NaN</td>\n",
       "      <td>NaN</td>\n",
       "      <td>NaN</td>\n",
       "      <td>NaN</td>\n",
       "      <td>NaN</td>\n",
       "      <td>NaN</td>\n",
       "      <td>nc</td>\n",
       "    </tr>\n",
       "    <tr>\n",
       "      <th>5</th>\n",
       "      <td>7222379453</td>\n",
       "      <td>hudson valley</td>\n",
       "      <td>1600</td>\n",
       "      <td>NaN</td>\n",
       "      <td>NaN</td>\n",
       "      <td>NaN</td>\n",
       "      <td>NaN</td>\n",
       "      <td>NaN</td>\n",
       "      <td>NaN</td>\n",
       "      <td>NaN</td>\n",
       "      <td>NaN</td>\n",
       "      <td>NaN</td>\n",
       "      <td>NaN</td>\n",
       "      <td>NaN</td>\n",
       "      <td>NaN</td>\n",
       "      <td>NaN</td>\n",
       "      <td>NaN</td>\n",
       "      <td>ny</td>\n",
       "    </tr>\n",
       "    <tr>\n",
       "      <th>6</th>\n",
       "      <td>7221952215</td>\n",
       "      <td>hudson valley</td>\n",
       "      <td>1000</td>\n",
       "      <td>NaN</td>\n",
       "      <td>NaN</td>\n",
       "      <td>NaN</td>\n",
       "      <td>NaN</td>\n",
       "      <td>NaN</td>\n",
       "      <td>NaN</td>\n",
       "      <td>NaN</td>\n",
       "      <td>NaN</td>\n",
       "      <td>NaN</td>\n",
       "      <td>NaN</td>\n",
       "      <td>NaN</td>\n",
       "      <td>NaN</td>\n",
       "      <td>NaN</td>\n",
       "      <td>NaN</td>\n",
       "      <td>ny</td>\n",
       "    </tr>\n",
       "    <tr>\n",
       "      <th>7</th>\n",
       "      <td>7220195662</td>\n",
       "      <td>hudson valley</td>\n",
       "      <td>15995</td>\n",
       "      <td>NaN</td>\n",
       "      <td>NaN</td>\n",
       "      <td>NaN</td>\n",
       "      <td>NaN</td>\n",
       "      <td>NaN</td>\n",
       "      <td>NaN</td>\n",
       "      <td>NaN</td>\n",
       "      <td>NaN</td>\n",
       "      <td>NaN</td>\n",
       "      <td>NaN</td>\n",
       "      <td>NaN</td>\n",
       "      <td>NaN</td>\n",
       "      <td>NaN</td>\n",
       "      <td>NaN</td>\n",
       "      <td>ny</td>\n",
       "    </tr>\n",
       "    <tr>\n",
       "      <th>8</th>\n",
       "      <td>7209064557</td>\n",
       "      <td>medford-ashland</td>\n",
       "      <td>5000</td>\n",
       "      <td>NaN</td>\n",
       "      <td>NaN</td>\n",
       "      <td>NaN</td>\n",
       "      <td>NaN</td>\n",
       "      <td>NaN</td>\n",
       "      <td>NaN</td>\n",
       "      <td>NaN</td>\n",
       "      <td>NaN</td>\n",
       "      <td>NaN</td>\n",
       "      <td>NaN</td>\n",
       "      <td>NaN</td>\n",
       "      <td>NaN</td>\n",
       "      <td>NaN</td>\n",
       "      <td>NaN</td>\n",
       "      <td>or</td>\n",
       "    </tr>\n",
       "    <tr>\n",
       "      <th>9</th>\n",
       "      <td>7219485069</td>\n",
       "      <td>erie</td>\n",
       "      <td>3000</td>\n",
       "      <td>NaN</td>\n",
       "      <td>NaN</td>\n",
       "      <td>NaN</td>\n",
       "      <td>NaN</td>\n",
       "      <td>NaN</td>\n",
       "      <td>NaN</td>\n",
       "      <td>NaN</td>\n",
       "      <td>NaN</td>\n",
       "      <td>NaN</td>\n",
       "      <td>NaN</td>\n",
       "      <td>NaN</td>\n",
       "      <td>NaN</td>\n",
       "      <td>NaN</td>\n",
       "      <td>NaN</td>\n",
       "      <td>pa</td>\n",
       "    </tr>\n",
       "  </tbody>\n",
       "</table>\n",
       "</div>"
      ],
      "text/plain": [
       "           id                  region  price  year manufacturer model  \\\n",
       "0  7222695916                prescott   6000   NaN          NaN   NaN   \n",
       "1  7218891961            fayetteville  11900   NaN          NaN   NaN   \n",
       "2  7221797935            florida keys  21000   NaN          NaN   NaN   \n",
       "3  7222270760  worcester / central MA   1500   NaN          NaN   NaN   \n",
       "4  7210384030              greensboro   4900   NaN          NaN   NaN   \n",
       "5  7222379453           hudson valley   1600   NaN          NaN   NaN   \n",
       "6  7221952215           hudson valley   1000   NaN          NaN   NaN   \n",
       "7  7220195662           hudson valley  15995   NaN          NaN   NaN   \n",
       "8  7209064557         medford-ashland   5000   NaN          NaN   NaN   \n",
       "9  7219485069                    erie   3000   NaN          NaN   NaN   \n",
       "\n",
       "  condition cylinders fuel  odometer title_status transmission  VIN drive  \\\n",
       "0       NaN       NaN  NaN       NaN          NaN          NaN  NaN   NaN   \n",
       "1       NaN       NaN  NaN       NaN          NaN          NaN  NaN   NaN   \n",
       "2       NaN       NaN  NaN       NaN          NaN          NaN  NaN   NaN   \n",
       "3       NaN       NaN  NaN       NaN          NaN          NaN  NaN   NaN   \n",
       "4       NaN       NaN  NaN       NaN          NaN          NaN  NaN   NaN   \n",
       "5       NaN       NaN  NaN       NaN          NaN          NaN  NaN   NaN   \n",
       "6       NaN       NaN  NaN       NaN          NaN          NaN  NaN   NaN   \n",
       "7       NaN       NaN  NaN       NaN          NaN          NaN  NaN   NaN   \n",
       "8       NaN       NaN  NaN       NaN          NaN          NaN  NaN   NaN   \n",
       "9       NaN       NaN  NaN       NaN          NaN          NaN  NaN   NaN   \n",
       "\n",
       "  size type paint_color state  \n",
       "0  NaN  NaN         NaN    az  \n",
       "1  NaN  NaN         NaN    ar  \n",
       "2  NaN  NaN         NaN    fl  \n",
       "3  NaN  NaN         NaN    ma  \n",
       "4  NaN  NaN         NaN    nc  \n",
       "5  NaN  NaN         NaN    ny  \n",
       "6  NaN  NaN         NaN    ny  \n",
       "7  NaN  NaN         NaN    ny  \n",
       "8  NaN  NaN         NaN    or  \n",
       "9  NaN  NaN         NaN    pa  "
      ]
     },
     "execution_count": 677,
     "metadata": {},
     "output_type": "execute_result"
    }
   ],
   "source": [
    "df.head(10)"
   ]
  },
  {
   "cell_type": "code",
   "execution_count": 678,
   "metadata": {
    "scrolled": true
   },
   "outputs": [
    {
     "name": "stdout",
     "output_type": "stream",
     "text": [
      "<class 'pandas.core.frame.DataFrame'>\n",
      "RangeIndex: 426880 entries, 0 to 426879\n",
      "Data columns (total 18 columns):\n",
      " #   Column        Non-Null Count   Dtype  \n",
      "---  ------        --------------   -----  \n",
      " 0   id            426880 non-null  int64  \n",
      " 1   region        426880 non-null  object \n",
      " 2   price         426880 non-null  int64  \n",
      " 3   year          425675 non-null  float64\n",
      " 4   manufacturer  409234 non-null  object \n",
      " 5   model         421603 non-null  object \n",
      " 6   condition     252776 non-null  object \n",
      " 7   cylinders     249202 non-null  object \n",
      " 8   fuel          423867 non-null  object \n",
      " 9   odometer      422480 non-null  float64\n",
      " 10  title_status  418638 non-null  object \n",
      " 11  transmission  424324 non-null  object \n",
      " 12  VIN           265838 non-null  object \n",
      " 13  drive         296313 non-null  object \n",
      " 14  size          120519 non-null  object \n",
      " 15  type          334022 non-null  object \n",
      " 16  paint_color   296677 non-null  object \n",
      " 17  state         426880 non-null  object \n",
      "dtypes: float64(2), int64(2), object(14)\n",
      "memory usage: 58.6+ MB\n"
     ]
    }
   ],
   "source": [
    "df.info()"
   ]
  },
  {
   "cell_type": "code",
   "execution_count": 679,
   "metadata": {},
   "outputs": [
    {
     "data": {
      "text/plain": [
       "Index(['id', 'region', 'price', 'year', 'manufacturer', 'model', 'condition',\n",
       "       'cylinders', 'fuel', 'odometer', 'title_status', 'transmission', 'VIN',\n",
       "       'drive', 'size', 'type', 'paint_color', 'state'],\n",
       "      dtype='object')"
      ]
     },
     "execution_count": 679,
     "metadata": {},
     "output_type": "execute_result"
    }
   ],
   "source": [
    "df.columns"
   ]
  },
  {
   "cell_type": "code",
   "execution_count": 680,
   "metadata": {},
   "outputs": [
    {
     "data": {
      "text/plain": [
       "0"
      ]
     },
     "execution_count": 680,
     "metadata": {},
     "output_type": "execute_result"
    }
   ],
   "source": [
    "#Duplicate check\n",
    "sum(df.duplicated())"
   ]
  },
  {
   "cell_type": "code",
   "execution_count": 681,
   "metadata": {
    "scrolled": true
   },
   "outputs": [
    {
     "data": {
      "text/plain": [
       "id              0.00\n",
       "region          0.00\n",
       "price           0.00\n",
       "year            0.28\n",
       "manufacturer    4.13\n",
       "model           1.24\n",
       "condition      40.79\n",
       "cylinders      41.62\n",
       "fuel            0.71\n",
       "odometer        1.03\n",
       "title_status    1.93\n",
       "transmission    0.60\n",
       "VIN            37.73\n",
       "drive          30.59\n",
       "size           71.77\n",
       "type           21.75\n",
       "paint_color    30.50\n",
       "state           0.00\n",
       "dtype: float64"
      ]
     },
     "execution_count": 681,
     "metadata": {},
     "output_type": "execute_result"
    }
   ],
   "source": [
    "#Missing vallues check - as a percentage of total rows\n",
    "df.isna().mean().round(4)*100 "
   ]
  },
  {
   "cell_type": "code",
   "execution_count": 682,
   "metadata": {},
   "outputs": [
    {
     "data": {
      "text/plain": [
       "404"
      ]
     },
     "execution_count": 682,
     "metadata": {},
     "output_type": "execute_result"
    }
   ],
   "source": [
    "df['region'].nunique()"
   ]
  },
  {
   "cell_type": "code",
   "execution_count": 683,
   "metadata": {},
   "outputs": [
    {
     "data": {
      "text/plain": [
       "114"
      ]
     },
     "execution_count": 683,
     "metadata": {},
     "output_type": "execute_result"
    }
   ],
   "source": [
    "df['year'].nunique()"
   ]
  },
  {
   "cell_type": "code",
   "execution_count": 684,
   "metadata": {},
   "outputs": [
    {
     "data": {
      "text/plain": [
       "42"
      ]
     },
     "execution_count": 684,
     "metadata": {},
     "output_type": "execute_result"
    }
   ],
   "source": [
    "df['manufacturer'].nunique()"
   ]
  },
  {
   "cell_type": "code",
   "execution_count": 685,
   "metadata": {},
   "outputs": [
    {
     "data": {
      "text/plain": [
       "29649"
      ]
     },
     "execution_count": 685,
     "metadata": {},
     "output_type": "execute_result"
    }
   ],
   "source": [
    "df['model'].nunique()"
   ]
  },
  {
   "cell_type": "code",
   "execution_count": 686,
   "metadata": {},
   "outputs": [
    {
     "data": {
      "text/plain": [
       "array([nan, 'good', 'excellent', 'fair', 'like new', 'new', 'salvage'],\n",
       "      dtype=object)"
      ]
     },
     "execution_count": 686,
     "metadata": {},
     "output_type": "execute_result"
    }
   ],
   "source": [
    "df['condition'].unique()"
   ]
  },
  {
   "cell_type": "code",
   "execution_count": 687,
   "metadata": {},
   "outputs": [
    {
     "data": {
      "text/plain": [
       "array([nan, '8 cylinders', '6 cylinders', '4 cylinders', '5 cylinders',\n",
       "       'other', '3 cylinders', '10 cylinders', '12 cylinders'],\n",
       "      dtype=object)"
      ]
     },
     "execution_count": 687,
     "metadata": {},
     "output_type": "execute_result"
    }
   ],
   "source": [
    "df['cylinders'].unique()"
   ]
  },
  {
   "cell_type": "code",
   "execution_count": 688,
   "metadata": {},
   "outputs": [
    {
     "data": {
      "text/plain": [
       "array([nan, 'gas', 'other', 'diesel', 'hybrid', 'electric'], dtype=object)"
      ]
     },
     "execution_count": 688,
     "metadata": {},
     "output_type": "execute_result"
    }
   ],
   "source": [
    "df['fuel'].unique()"
   ]
  },
  {
   "cell_type": "code",
   "execution_count": 689,
   "metadata": {},
   "outputs": [
    {
     "data": {
      "text/plain": [
       "array([nan, 'clean', 'rebuilt', 'lien', 'salvage', 'missing',\n",
       "       'parts only'], dtype=object)"
      ]
     },
     "execution_count": 689,
     "metadata": {},
     "output_type": "execute_result"
    }
   ],
   "source": [
    "df['title_status'].unique()"
   ]
  },
  {
   "cell_type": "code",
   "execution_count": 690,
   "metadata": {},
   "outputs": [
    {
     "data": {
      "text/plain": [
       "array([nan, 'other', 'automatic', 'manual'], dtype=object)"
      ]
     },
     "execution_count": 690,
     "metadata": {},
     "output_type": "execute_result"
    }
   ],
   "source": [
    "df['transmission'].unique()"
   ]
  },
  {
   "cell_type": "code",
   "execution_count": 691,
   "metadata": {},
   "outputs": [
    {
     "data": {
      "text/plain": [
       "array([nan, 'rwd', '4wd', 'fwd'], dtype=object)"
      ]
     },
     "execution_count": 691,
     "metadata": {},
     "output_type": "execute_result"
    }
   ],
   "source": [
    "df['drive'].unique()"
   ]
  },
  {
   "cell_type": "code",
   "execution_count": 692,
   "metadata": {},
   "outputs": [
    {
     "data": {
      "text/plain": [
       "array([nan, 'full-size', 'mid-size', 'compact', 'sub-compact'],\n",
       "      dtype=object)"
      ]
     },
     "execution_count": 692,
     "metadata": {},
     "output_type": "execute_result"
    }
   ],
   "source": [
    "df['size'].unique()"
   ]
  },
  {
   "cell_type": "code",
   "execution_count": 693,
   "metadata": {},
   "outputs": [
    {
     "data": {
      "text/plain": [
       "array([nan, 'pickup', 'truck', 'other', 'coupe', 'SUV', 'hatchback',\n",
       "       'mini-van', 'sedan', 'offroad', 'bus', 'van', 'convertible',\n",
       "       'wagon'], dtype=object)"
      ]
     },
     "execution_count": 693,
     "metadata": {},
     "output_type": "execute_result"
    }
   ],
   "source": [
    "df['type'].unique()"
   ]
  },
  {
   "cell_type": "code",
   "execution_count": 694,
   "metadata": {},
   "outputs": [
    {
     "data": {
      "text/plain": [
       "array([nan, 'white', 'blue', 'red', 'black', 'silver', 'grey', 'brown',\n",
       "       'yellow', 'orange', 'green', 'custom', 'purple'], dtype=object)"
      ]
     },
     "execution_count": 694,
     "metadata": {},
     "output_type": "execute_result"
    }
   ],
   "source": [
    "df['paint_color'].unique()"
   ]
  },
  {
   "cell_type": "markdown",
   "metadata": {},
   "source": [
    "### Data Preparation\n",
    "\n",
    "After our initial exploration and fine tuning of the business understanding, it is time to construct our final dataset prior to modeling.  Here, we want to make sure to handle any integrity issues and cleaning, the engineering of new features, any transformations that we believe should happen (scaling, logarithms, normalization, etc.), and general preparation for modeling with `sklearn`. "
   ]
  },
  {
   "cell_type": "markdown",
   "metadata": {},
   "source": [
    "#### Format columns and fill missing values"
   ]
  },
  {
   "cell_type": "code",
   "execution_count": 695,
   "metadata": {},
   "outputs": [],
   "source": [
    "#display numbers in a friendlier format\n",
    "pd.set_option('display.float_format', lambda x: '%.2f' % x)"
   ]
  },
  {
   "cell_type": "code",
   "execution_count": 696,
   "metadata": {},
   "outputs": [],
   "source": [
    "#drop year, manufacturer, model, fuel, and odometer columns with Nan values\n",
    "df.dropna(subset = ['year','manufacturer','model','fuel','odometer','transmission','title_status'], inplace = True)"
   ]
  },
  {
   "cell_type": "code",
   "execution_count": 697,
   "metadata": {},
   "outputs": [],
   "source": [
    "df['year'] = df['year'].astype(int)"
   ]
  },
  {
   "cell_type": "code",
   "execution_count": 698,
   "metadata": {
    "scrolled": true
   },
   "outputs": [],
   "source": [
    "#Convert condition column to numeric values\n",
    "df = df.replace(to_replace = \"new\", value = 6)\n",
    "df = df.replace(to_replace = \"like new\", value = 5)\n",
    "df = df.replace(to_replace = \"excellent\", value = 4)\n",
    "df = df.replace(to_replace = \"good\", value = 3)\n",
    "df = df.replace(to_replace = \"fair\", value = 2)\n",
    "df = df.replace(to_replace = \"salvage\", value = 1)"
   ]
  },
  {
   "cell_type": "code",
   "execution_count": 699,
   "metadata": {
    "scrolled": true
   },
   "outputs": [],
   "source": [
    "#fill in missing values\n",
    "df['condition'] = df['condition'].fillna(df['condition'].median())"
   ]
  },
  {
   "cell_type": "code",
   "execution_count": 700,
   "metadata": {},
   "outputs": [],
   "source": [
    "df['condition'] = df['condition'].astype(int)"
   ]
  },
  {
   "cell_type": "code",
   "execution_count": 701,
   "metadata": {},
   "outputs": [
    {
     "data": {
      "text/plain": [
       "array([3, 4, 2, 5, 6, 1])"
      ]
     },
     "execution_count": 701,
     "metadata": {},
     "output_type": "execute_result"
    }
   ],
   "source": [
    "df['condition'].unique()"
   ]
  },
  {
   "cell_type": "code",
   "execution_count": 702,
   "metadata": {},
   "outputs": [],
   "source": [
    "#Convert cylinders column numeric values\n",
    "df = df.replace(to_replace = \"12 cylinders\", value = 12)\n",
    "df = df.replace(to_replace = \"10 cylinders\", value = 10)\n",
    "df = df.replace(to_replace = \"8 cylinders\", value = 8)\n",
    "df = df.replace(to_replace = \"6 cylinders\", value = 6)\n",
    "df = df.replace(to_replace = \"5 cylinders\", value = 5)\n",
    "df = df.replace(to_replace = \"4 cylinders\", value = 4)\n",
    "df = df.replace(to_replace = \"3 cylinders\", value = 3)"
   ]
  },
  {
   "cell_type": "code",
   "execution_count": 703,
   "metadata": {
    "scrolled": false
   },
   "outputs": [
    {
     "name": "stdout",
     "output_type": "stream",
     "text": [
      "6.0\n"
     ]
    }
   ],
   "source": [
    "#Fill in missing values and other values\n",
    "df_cylinders = df[df['cylinders'] != 'other']\n",
    "median = df_cylinders['cylinders'].median()\n",
    "df['cylinders'] = df['cylinders'].fillna(median)\n",
    "df['cylinders'] = pd.DataFrame(df['cylinders']).replace(to_replace = \"other\", value = median)\n",
    "df['cylinders'] = df['cylinders'].astype(int)\n",
    "print (median)"
   ]
  },
  {
   "cell_type": "code",
   "execution_count": 704,
   "metadata": {},
   "outputs": [
    {
     "data": {
      "text/plain": [
       "array([ 8,  6,  4,  5, 10,  3, 12])"
      ]
     },
     "execution_count": 704,
     "metadata": {},
     "output_type": "execute_result"
    }
   ],
   "source": [
    "df['cylinders'].unique()"
   ]
  },
  {
   "cell_type": "code",
   "execution_count": 705,
   "metadata": {},
   "outputs": [],
   "source": [
    "#Convert size column numeric values\n",
    "df = df.replace(to_replace = \"full-size\", value = 4)\n",
    "df = df.replace(to_replace = \"mid-size\", value = 3)\n",
    "df = df.replace(to_replace = \"compact\", value = 2)\n",
    "df = df.replace(to_replace = \"sub-compact\", value = 1)"
   ]
  },
  {
   "cell_type": "code",
   "execution_count": 706,
   "metadata": {},
   "outputs": [],
   "source": [
    "df['size'] = df['size'].fillna(df['size'].median())"
   ]
  },
  {
   "cell_type": "code",
   "execution_count": 707,
   "metadata": {},
   "outputs": [],
   "source": [
    "df['size'] = df['size'].astype(int)"
   ]
  },
  {
   "cell_type": "code",
   "execution_count": 708,
   "metadata": {
    "scrolled": true
   },
   "outputs": [
    {
     "data": {
      "text/plain": [
       "array([4, 3, 2, 1])"
      ]
     },
     "execution_count": 708,
     "metadata": {},
     "output_type": "execute_result"
    }
   ],
   "source": [
    "df['size'].unique()"
   ]
  },
  {
   "cell_type": "code",
   "execution_count": 709,
   "metadata": {},
   "outputs": [],
   "source": [
    "columns_to_fill = ['VIN', 'type', 'drive','paint_color']"
   ]
  },
  {
   "cell_type": "code",
   "execution_count": 710,
   "metadata": {},
   "outputs": [],
   "source": [
    "df[columns_to_fill] = df[columns_to_fill].fillna(\"not specified\")"
   ]
  },
  {
   "cell_type": "code",
   "execution_count": 711,
   "metadata": {},
   "outputs": [
    {
     "data": {
      "text/plain": [
       "id             0.00\n",
       "region         0.00\n",
       "price          0.00\n",
       "year           0.00\n",
       "manufacturer   0.00\n",
       "model          0.00\n",
       "condition      0.00\n",
       "cylinders      0.00\n",
       "fuel           0.00\n",
       "odometer       0.00\n",
       "title_status   0.00\n",
       "transmission   0.00\n",
       "VIN            0.00\n",
       "drive          0.00\n",
       "size           0.00\n",
       "type           0.00\n",
       "paint_color    0.00\n",
       "state          0.00\n",
       "dtype: float64"
      ]
     },
     "execution_count": 711,
     "metadata": {},
     "output_type": "execute_result"
    }
   ],
   "source": [
    "df.isna().mean().round(4)*100 "
   ]
  },
  {
   "cell_type": "code",
   "execution_count": 712,
   "metadata": {},
   "outputs": [
    {
     "data": {
      "text/plain": [
       "(389604, 18)"
      ]
     },
     "execution_count": 712,
     "metadata": {},
     "output_type": "execute_result"
    }
   ],
   "source": [
    "df.shape"
   ]
  },
  {
   "cell_type": "code",
   "execution_count": 713,
   "metadata": {},
   "outputs": [
    {
     "name": "stdout",
     "output_type": "stream",
     "text": [
      "<class 'pandas.core.frame.DataFrame'>\n",
      "Int64Index: 389604 entries, 27 to 426879\n",
      "Data columns (total 18 columns):\n",
      " #   Column        Non-Null Count   Dtype  \n",
      "---  ------        --------------   -----  \n",
      " 0   id            389604 non-null  int64  \n",
      " 1   region        389604 non-null  object \n",
      " 2   price         389604 non-null  int64  \n",
      " 3   year          389604 non-null  int64  \n",
      " 4   manufacturer  389604 non-null  object \n",
      " 5   model         389604 non-null  object \n",
      " 6   condition     389604 non-null  int64  \n",
      " 7   cylinders     389604 non-null  int64  \n",
      " 8   fuel          389604 non-null  object \n",
      " 9   odometer      389604 non-null  float64\n",
      " 10  title_status  389604 non-null  object \n",
      " 11  transmission  389604 non-null  object \n",
      " 12  VIN           389604 non-null  object \n",
      " 13  drive         389604 non-null  object \n",
      " 14  size          389604 non-null  int64  \n",
      " 15  type          389604 non-null  object \n",
      " 16  paint_color   389604 non-null  object \n",
      " 17  state         389604 non-null  object \n",
      "dtypes: float64(1), int64(6), object(11)\n",
      "memory usage: 56.5+ MB\n"
     ]
    }
   ],
   "source": [
    "df.info()"
   ]
  },
  {
   "cell_type": "code",
   "execution_count": 714,
   "metadata": {
    "scrolled": true
   },
   "outputs": [
    {
     "data": {
      "text/html": [
       "<div>\n",
       "<style scoped>\n",
       "    .dataframe tbody tr th:only-of-type {\n",
       "        vertical-align: middle;\n",
       "    }\n",
       "\n",
       "    .dataframe tbody tr th {\n",
       "        vertical-align: top;\n",
       "    }\n",
       "\n",
       "    .dataframe thead th {\n",
       "        text-align: right;\n",
       "    }\n",
       "</style>\n",
       "<table border=\"1\" class=\"dataframe\">\n",
       "  <thead>\n",
       "    <tr style=\"text-align: right;\">\n",
       "      <th></th>\n",
       "      <th>id</th>\n",
       "      <th>price</th>\n",
       "      <th>year</th>\n",
       "      <th>condition</th>\n",
       "      <th>cylinders</th>\n",
       "      <th>odometer</th>\n",
       "      <th>size</th>\n",
       "    </tr>\n",
       "  </thead>\n",
       "  <tbody>\n",
       "    <tr>\n",
       "      <th>count</th>\n",
       "      <td>389604.00</td>\n",
       "      <td>389604.00</td>\n",
       "      <td>389604.00</td>\n",
       "      <td>389604.00</td>\n",
       "      <td>389604.00</td>\n",
       "      <td>389604.00</td>\n",
       "      <td>389604.00</td>\n",
       "    </tr>\n",
       "    <tr>\n",
       "      <th>mean</th>\n",
       "      <td>7311508295.23</td>\n",
       "      <td>63955.28</td>\n",
       "      <td>2011.61</td>\n",
       "      <td>3.32</td>\n",
       "      <td>5.98</td>\n",
       "      <td>96352.40</td>\n",
       "      <td>3.80</td>\n",
       "    </tr>\n",
       "    <tr>\n",
       "      <th>std</th>\n",
       "      <td>4375217.45</td>\n",
       "      <td>11448646.03</td>\n",
       "      <td>8.64</td>\n",
       "      <td>0.61</td>\n",
       "      <td>1.22</td>\n",
       "      <td>191418.11</td>\n",
       "      <td>0.54</td>\n",
       "    </tr>\n",
       "    <tr>\n",
       "      <th>min</th>\n",
       "      <td>7301583321.00</td>\n",
       "      <td>0.00</td>\n",
       "      <td>1900.00</td>\n",
       "      <td>1.00</td>\n",
       "      <td>3.00</td>\n",
       "      <td>0.00</td>\n",
       "      <td>1.00</td>\n",
       "    </tr>\n",
       "    <tr>\n",
       "      <th>25%</th>\n",
       "      <td>7308158162.00</td>\n",
       "      <td>5995.00</td>\n",
       "      <td>2009.00</td>\n",
       "      <td>3.00</td>\n",
       "      <td>6.00</td>\n",
       "      <td>38093.00</td>\n",
       "      <td>4.00</td>\n",
       "    </tr>\n",
       "    <tr>\n",
       "      <th>50%</th>\n",
       "      <td>7312676366.00</td>\n",
       "      <td>13995.00</td>\n",
       "      <td>2014.00</td>\n",
       "      <td>3.00</td>\n",
       "      <td>6.00</td>\n",
       "      <td>85753.00</td>\n",
       "      <td>4.00</td>\n",
       "    </tr>\n",
       "    <tr>\n",
       "      <th>75%</th>\n",
       "      <td>7315257097.25</td>\n",
       "      <td>26590.00</td>\n",
       "      <td>2017.00</td>\n",
       "      <td>4.00</td>\n",
       "      <td>6.00</td>\n",
       "      <td>133315.00</td>\n",
       "      <td>4.00</td>\n",
       "    </tr>\n",
       "    <tr>\n",
       "      <th>max</th>\n",
       "      <td>7317101084.00</td>\n",
       "      <td>3736928711.00</td>\n",
       "      <td>2022.00</td>\n",
       "      <td>6.00</td>\n",
       "      <td>12.00</td>\n",
       "      <td>10000000.00</td>\n",
       "      <td>4.00</td>\n",
       "    </tr>\n",
       "  </tbody>\n",
       "</table>\n",
       "</div>"
      ],
      "text/plain": [
       "                 id         price      year  condition  cylinders    odometer  \\\n",
       "count     389604.00     389604.00 389604.00  389604.00  389604.00   389604.00   \n",
       "mean  7311508295.23      63955.28   2011.61       3.32       5.98    96352.40   \n",
       "std      4375217.45   11448646.03      8.64       0.61       1.22   191418.11   \n",
       "min   7301583321.00          0.00   1900.00       1.00       3.00        0.00   \n",
       "25%   7308158162.00       5995.00   2009.00       3.00       6.00    38093.00   \n",
       "50%   7312676366.00      13995.00   2014.00       3.00       6.00    85753.00   \n",
       "75%   7315257097.25      26590.00   2017.00       4.00       6.00   133315.00   \n",
       "max   7317101084.00 3736928711.00   2022.00       6.00      12.00 10000000.00   \n",
       "\n",
       "           size  \n",
       "count 389604.00  \n",
       "mean       3.80  \n",
       "std        0.54  \n",
       "min        1.00  \n",
       "25%        4.00  \n",
       "50%        4.00  \n",
       "75%        4.00  \n",
       "max        4.00  "
      ]
     },
     "execution_count": 714,
     "metadata": {},
     "output_type": "execute_result"
    }
   ],
   "source": [
    "df.describe()"
   ]
  },
  {
   "cell_type": "code",
   "execution_count": 715,
   "metadata": {},
   "outputs": [],
   "source": [
    "df = shuffle(df)"
   ]
  },
  {
   "cell_type": "code",
   "execution_count": 716,
   "metadata": {
    "scrolled": false
   },
   "outputs": [
    {
     "data": {
      "image/png": "[encoded data removed]",
      "text/plain": [
       "<Figure size 1260x1260 with 56 Axes>"
      ]
     },
     "metadata": {
      "needs_background": "light"
     },
     "output_type": "display_data"
    }
   ],
   "source": [
    "sns.pairplot(df[0:800]);"
   ]
  },
  {
   "cell_type": "code",
   "execution_count": 717,
   "metadata": {},
   "outputs": [],
   "source": [
    "mask = np.triu(np.ones_like(df.corr().round(2)))"
   ]
  },
  {
   "cell_type": "code",
   "execution_count": 718,
   "metadata": {
    "scrolled": false
   },
   "outputs": [
    {
     "data": {
      "image/png": "[encoded data removed]",
      "text/plain": [
       "<Figure size 432x288 with 2 Axes>"
      ]
     },
     "metadata": {
      "needs_background": "light"
     },
     "output_type": "display_data"
    }
   ],
   "source": [
    "corr = df[0:1000].corr()\n",
    "sns.heatmap(corr, annot=True, mask=mask, cmap=\"YlGnBu\");"
   ]
  },
  {
   "cell_type": "markdown",
   "metadata": {},
   "source": [
    "#### Eliminate outliers"
   ]
  },
  {
   "cell_type": "code",
   "execution_count": 719,
   "metadata": {},
   "outputs": [],
   "source": [
    "#IQR Treatement"
   ]
  },
  {
   "cell_type": "code",
   "execution_count": 720,
   "metadata": {
    "scrolled": true
   },
   "outputs": [
    {
     "data": {
      "image/png": "[encoded data removed]",
      "text/plain": [
       "<Figure size 432x288 with 1 Axes>"
      ]
     },
     "metadata": {
      "needs_background": "light"
     },
     "output_type": "display_data"
    }
   ],
   "source": [
    "df['price'].plot(kind = 'box', vert = False, title = \"Boxplot of price before outlier removal:\");"
   ]
  },
  {
   "cell_type": "code",
   "execution_count": 721,
   "metadata": {},
   "outputs": [
    {
     "data": {
      "text/plain": [
       "20595.0"
      ]
     },
     "execution_count": 721,
     "metadata": {},
     "output_type": "execute_result"
    }
   ],
   "source": [
    "iqr = df['price'].quantile(.75) - df['price'].quantile(.25)\n",
    "iqr"
   ]
  },
  {
   "cell_type": "code",
   "execution_count": 722,
   "metadata": {},
   "outputs": [],
   "source": [
    "lower_bound = df['price'].quantile(.25) - 1.5 * iqr\n",
    "upper_bound = df['price'].quantile(.75) + 1.5 * iqr"
   ]
  },
  {
   "cell_type": "code",
   "execution_count": 723,
   "metadata": {},
   "outputs": [],
   "source": [
    "df_iqr = df[(df['price'] > lower_bound) & (df['price'] < upper_bound)].copy()"
   ]
  },
  {
   "cell_type": "code",
   "execution_count": 724,
   "metadata": {},
   "outputs": [
    {
     "name": "stdout",
     "output_type": "stream",
     "text": [
      "We lost 1.71% of the data by the IQR method\n"
     ]
    }
   ],
   "source": [
    "iqr_data_lost = 1-(df_iqr.shape[0]/df.shape[0])\n",
    "print(\"We lost {:.2%} of the data by the IQR method\".format(iqr_data_lost))"
   ]
  },
  {
   "cell_type": "code",
   "execution_count": 725,
   "metadata": {
    "scrolled": true
   },
   "outputs": [
    {
     "data": {
      "image/png": "[encoded data removed]",
      "text/plain": [
       "<Figure size 432x288 with 1 Axes>"
      ]
     },
     "metadata": {
      "needs_background": "light"
     },
     "output_type": "display_data"
    }
   ],
   "source": [
    "df_iqr['price'].plot(kind = 'box', vert = False, title = \"Boxplot of price after outlier removal: iqr\");"
   ]
  },
  {
   "cell_type": "code",
   "execution_count": 726,
   "metadata": {},
   "outputs": [],
   "source": [
    "df = df_iqr"
   ]
  },
  {
   "cell_type": "code",
   "execution_count": 727,
   "metadata": {},
   "outputs": [
    {
     "data": {
      "image/png": "[encoded data removed]",
      "text/plain": [
       "<Figure size 432x288 with 1 Axes>"
      ]
     },
     "metadata": {
      "needs_background": "light"
     },
     "output_type": "display_data"
    }
   ],
   "source": [
    "df['year'].plot(kind = 'box', vert = False, title = \"Boxplot of year before outlier removal:\");"
   ]
  },
  {
   "cell_type": "code",
   "execution_count": 728,
   "metadata": {},
   "outputs": [
    {
     "data": {
      "text/plain": [
       "9.0"
      ]
     },
     "execution_count": 728,
     "metadata": {},
     "output_type": "execute_result"
    }
   ],
   "source": [
    "iqr = df['year'].quantile(.75) - df['year'].quantile(.25)\n",
    "iqr"
   ]
  },
  {
   "cell_type": "code",
   "execution_count": 729,
   "metadata": {},
   "outputs": [],
   "source": [
    "lower_bound = df['year'].quantile(.25) - 1.5 * iqr\n",
    "upper_bound = df['year'].quantile(.75) + 1.5 * iqr"
   ]
  },
  {
   "cell_type": "code",
   "execution_count": 730,
   "metadata": {},
   "outputs": [],
   "source": [
    "df_iqr = df[(df['year'] > lower_bound) & (df['year'] < upper_bound)].copy()"
   ]
  },
  {
   "cell_type": "code",
   "execution_count": 731,
   "metadata": {},
   "outputs": [
    {
     "name": "stdout",
     "output_type": "stream",
     "text": [
      "We lost 3.07% of the data by the IQR method\n"
     ]
    }
   ],
   "source": [
    "iqr_data_lost = 1-(df_iqr.shape[0]/df.shape[0])\n",
    "print(\"We lost {:.2%} of the data by the IQR method\".format(iqr_data_lost))"
   ]
  },
  {
   "cell_type": "code",
   "execution_count": 732,
   "metadata": {
    "scrolled": true
   },
   "outputs": [
    {
     "data": {
      "image/png": "[encoded data removed]",
      "text/plain": [
       "<Figure size 432x288 with 1 Axes>"
      ]
     },
     "metadata": {
      "needs_background": "light"
     },
     "output_type": "display_data"
    }
   ],
   "source": [
    "df_iqr['year'].plot(kind = 'box', vert = False, title = \"Boxplot of year after outlier removal: iqr\");"
   ]
  },
  {
   "cell_type": "code",
   "execution_count": 733,
   "metadata": {},
   "outputs": [],
   "source": [
    "df = df_iqr"
   ]
  },
  {
   "cell_type": "code",
   "execution_count": 734,
   "metadata": {},
   "outputs": [
    {
     "data": {
      "image/png": "[encoded data removed]",
      "text/plain": [
       "<Figure size 432x288 with 1 Axes>"
      ]
     },
     "metadata": {
      "needs_background": "light"
     },
     "output_type": "display_data"
    }
   ],
   "source": [
    "df['odometer'].plot(kind = 'box', vert = False, title = \"Boxplot of odometer before outlier removal:\");"
   ]
  },
  {
   "cell_type": "code",
   "execution_count": 735,
   "metadata": {},
   "outputs": [
    {
     "data": {
      "text/plain": [
       "95105.5"
      ]
     },
     "execution_count": 735,
     "metadata": {},
     "output_type": "execute_result"
    }
   ],
   "source": [
    "iqr = df['odometer'].quantile(.75) - df['odometer'].quantile(.25)\n",
    "iqr"
   ]
  },
  {
   "cell_type": "code",
   "execution_count": 736,
   "metadata": {},
   "outputs": [],
   "source": [
    "lower_bound = df['odometer'].quantile(.25) - 1.5 * iqr\n",
    "upper_bound = df['odometer'].quantile(.75) + 1.5 * iqr"
   ]
  },
  {
   "cell_type": "code",
   "execution_count": 737,
   "metadata": {},
   "outputs": [],
   "source": [
    "df_iqr = df[(df['odometer'] > lower_bound) & (df['odometer'] < upper_bound)].copy()"
   ]
  },
  {
   "cell_type": "code",
   "execution_count": 738,
   "metadata": {},
   "outputs": [
    {
     "name": "stdout",
     "output_type": "stream",
     "text": [
      "We lost 0.74% of the data by the IQR method\n"
     ]
    }
   ],
   "source": [
    "iqr_data_lost = 1-(df_iqr.shape[0]/df.shape[0])\n",
    "print(\"We lost {:.2%} of the data by the IQR method\".format(iqr_data_lost))"
   ]
  },
  {
   "cell_type": "code",
   "execution_count": 739,
   "metadata": {},
   "outputs": [
    {
     "data": {
      "image/png": "[encoded data removed]",
      "text/plain": [
       "<Figure size 432x288 with 1 Axes>"
      ]
     },
     "metadata": {
      "needs_background": "light"
     },
     "output_type": "display_data"
    }
   ],
   "source": [
    "df_iqr['odometer'].plot(kind = 'box', vert = False, title = \"Boxplot of odometer after outlier removal: iqr\");"
   ]
  },
  {
   "cell_type": "code",
   "execution_count": 740,
   "metadata": {},
   "outputs": [],
   "source": [
    "df = df_iqr"
   ]
  },
  {
   "cell_type": "code",
   "execution_count": 741,
   "metadata": {},
   "outputs": [
    {
     "data": {
      "image/png": "[encoded data removed]",
      "text/plain": [
       "<Figure size 432x288 with 2 Axes>"
      ]
     },
     "metadata": {
      "needs_background": "light"
     },
     "output_type": "display_data"
    }
   ],
   "source": [
    "corr = df.corr()\n",
    "sns.heatmap(corr, annot=True, mask=mask, cmap=\"YlGnBu\");"
   ]
  },
  {
   "cell_type": "code",
   "execution_count": 742,
   "metadata": {},
   "outputs": [
    {
     "data": {
      "text/html": [
       "<div>\n",
       "<style scoped>\n",
       "    .dataframe tbody tr th:only-of-type {\n",
       "        vertical-align: middle;\n",
       "    }\n",
       "\n",
       "    .dataframe tbody tr th {\n",
       "        vertical-align: top;\n",
       "    }\n",
       "\n",
       "    .dataframe thead th {\n",
       "        text-align: right;\n",
       "    }\n",
       "</style>\n",
       "<table border=\"1\" class=\"dataframe\">\n",
       "  <thead>\n",
       "    <tr style=\"text-align: right;\">\n",
       "      <th></th>\n",
       "      <th>count</th>\n",
       "      <th>mean</th>\n",
       "      <th>std</th>\n",
       "      <th>min</th>\n",
       "      <th>25%</th>\n",
       "      <th>50%</th>\n",
       "      <th>75%</th>\n",
       "      <th>max</th>\n",
       "    </tr>\n",
       "    <tr>\n",
       "      <th>region</th>\n",
       "      <th></th>\n",
       "      <th></th>\n",
       "      <th></th>\n",
       "      <th></th>\n",
       "      <th></th>\n",
       "      <th></th>\n",
       "      <th></th>\n",
       "      <th></th>\n",
       "    </tr>\n",
       "  </thead>\n",
       "  <tbody>\n",
       "    <tr>\n",
       "      <th>SF bay area</th>\n",
       "      <td>2564.00</td>\n",
       "      <td>15903.85</td>\n",
       "      <td>12512.64</td>\n",
       "      <td>0.00</td>\n",
       "      <td>5500.00</td>\n",
       "      <td>14993.00</td>\n",
       "      <td>24000.00</td>\n",
       "      <td>56995.00</td>\n",
       "    </tr>\n",
       "    <tr>\n",
       "      <th>abilene</th>\n",
       "      <td>198.00</td>\n",
       "      <td>25149.43</td>\n",
       "      <td>14494.90</td>\n",
       "      <td>0.00</td>\n",
       "      <td>12121.75</td>\n",
       "      <td>24995.00</td>\n",
       "      <td>36762.25</td>\n",
       "      <td>54999.00</td>\n",
       "    </tr>\n",
       "    <tr>\n",
       "      <th>akron / canton</th>\n",
       "      <td>2002.00</td>\n",
       "      <td>13793.82</td>\n",
       "      <td>11201.00</td>\n",
       "      <td>0.00</td>\n",
       "      <td>5500.00</td>\n",
       "      <td>9900.00</td>\n",
       "      <td>19500.00</td>\n",
       "      <td>57000.00</td>\n",
       "    </tr>\n",
       "    <tr>\n",
       "      <th>albany</th>\n",
       "      <td>2283.00</td>\n",
       "      <td>19048.61</td>\n",
       "      <td>13641.32</td>\n",
       "      <td>0.00</td>\n",
       "      <td>7400.00</td>\n",
       "      <td>16500.00</td>\n",
       "      <td>28990.00</td>\n",
       "      <td>56990.00</td>\n",
       "    </tr>\n",
       "    <tr>\n",
       "      <th>albuquerque</th>\n",
       "      <td>2558.00</td>\n",
       "      <td>16571.20</td>\n",
       "      <td>14208.62</td>\n",
       "      <td>0.00</td>\n",
       "      <td>4425.00</td>\n",
       "      <td>14995.00</td>\n",
       "      <td>26590.00</td>\n",
       "      <td>56999.00</td>\n",
       "    </tr>\n",
       "    <tr>\n",
       "      <th>...</th>\n",
       "      <td>...</td>\n",
       "      <td>...</td>\n",
       "      <td>...</td>\n",
       "      <td>...</td>\n",
       "      <td>...</td>\n",
       "      <td>...</td>\n",
       "      <td>...</td>\n",
       "      <td>...</td>\n",
       "    </tr>\n",
       "    <tr>\n",
       "      <th>york</th>\n",
       "      <td>682.00</td>\n",
       "      <td>15789.65</td>\n",
       "      <td>13913.73</td>\n",
       "      <td>0.00</td>\n",
       "      <td>4995.00</td>\n",
       "      <td>9700.00</td>\n",
       "      <td>27999.75</td>\n",
       "      <td>54990.00</td>\n",
       "    </tr>\n",
       "    <tr>\n",
       "      <th>youngstown</th>\n",
       "      <td>587.00</td>\n",
       "      <td>15513.40</td>\n",
       "      <td>12216.01</td>\n",
       "      <td>0.00</td>\n",
       "      <td>6375.00</td>\n",
       "      <td>10000.00</td>\n",
       "      <td>24295.00</td>\n",
       "      <td>55990.00</td>\n",
       "    </tr>\n",
       "    <tr>\n",
       "      <th>yuba-sutter</th>\n",
       "      <td>1447.00</td>\n",
       "      <td>15433.11</td>\n",
       "      <td>10755.68</td>\n",
       "      <td>0.00</td>\n",
       "      <td>7999.00</td>\n",
       "      <td>11999.00</td>\n",
       "      <td>20932.00</td>\n",
       "      <td>54988.00</td>\n",
       "    </tr>\n",
       "    <tr>\n",
       "      <th>yuma</th>\n",
       "      <td>203.00</td>\n",
       "      <td>24103.31</td>\n",
       "      <td>19847.98</td>\n",
       "      <td>0.00</td>\n",
       "      <td>4499.50</td>\n",
       "      <td>19000.00</td>\n",
       "      <td>43995.00</td>\n",
       "      <td>56995.00</td>\n",
       "    </tr>\n",
       "    <tr>\n",
       "      <th>zanesville / cambridge</th>\n",
       "      <td>276.00</td>\n",
       "      <td>19743.21</td>\n",
       "      <td>13124.04</td>\n",
       "      <td>0.00</td>\n",
       "      <td>9931.50</td>\n",
       "      <td>16590.00</td>\n",
       "      <td>30990.00</td>\n",
       "      <td>55477.00</td>\n",
       "    </tr>\n",
       "  </tbody>\n",
       "</table>\n",
       "<p>404 rows × 8 columns</p>\n",
       "</div>"
      ],
      "text/plain": [
       "                         count     mean      std  min      25%      50%  \\\n",
       "region                                                                    \n",
       "SF bay area            2564.00 15903.85 12512.64 0.00  5500.00 14993.00   \n",
       "abilene                 198.00 25149.43 14494.90 0.00 12121.75 24995.00   \n",
       "akron / canton         2002.00 13793.82 11201.00 0.00  5500.00  9900.00   \n",
       "albany                 2283.00 19048.61 13641.32 0.00  7400.00 16500.00   \n",
       "albuquerque            2558.00 16571.20 14208.62 0.00  4425.00 14995.00   \n",
       "...                        ...      ...      ...  ...      ...      ...   \n",
       "york                    682.00 15789.65 13913.73 0.00  4995.00  9700.00   \n",
       "youngstown              587.00 15513.40 12216.01 0.00  6375.00 10000.00   \n",
       "yuba-sutter            1447.00 15433.11 10755.68 0.00  7999.00 11999.00   \n",
       "yuma                    203.00 24103.31 19847.98 0.00  4499.50 19000.00   \n",
       "zanesville / cambridge  276.00 19743.21 13124.04 0.00  9931.50 16590.00   \n",
       "\n",
       "                            75%      max  \n",
       "region                                    \n",
       "SF bay area            24000.00 56995.00  \n",
       "abilene                36762.25 54999.00  \n",
       "akron / canton         19500.00 57000.00  \n",
       "albany                 28990.00 56990.00  \n",
       "albuquerque            26590.00 56999.00  \n",
       "...                         ...      ...  \n",
       "york                   27999.75 54990.00  \n",
       "youngstown             24295.00 55990.00  \n",
       "yuba-sutter            20932.00 54988.00  \n",
       "yuma                   43995.00 56995.00  \n",
       "zanesville / cambridge 30990.00 55477.00  \n",
       "\n",
       "[404 rows x 8 columns]"
      ]
     },
     "execution_count": 742,
     "metadata": {},
     "output_type": "execute_result"
    }
   ],
   "source": [
    "df.groupby('region')['price'].describe()"
   ]
  },
  {
   "cell_type": "code",
   "execution_count": 743,
   "metadata": {
    "scrolled": false
   },
   "outputs": [
    {
     "data": {
      "image/png": "[encoded data removed]",
      "text/plain": [
       "<Figure size 432x288 with 1 Axes>"
      ]
     },
     "metadata": {
      "needs_background": "light"
     },
     "output_type": "display_data"
    }
   ],
   "source": [
    "sns.barplot(x = 'year', y = 'price', data = df);\n"
   ]
  },
  {
   "cell_type": "code",
   "execution_count": 744,
   "metadata": {},
   "outputs": [
    {
     "data": {
      "text/plain": [
       "(array([ 0,  1,  2,  3,  4,  5,  6,  7,  8,  9, 10, 11, 12, 13, 14, 15, 16,\n",
       "        17, 18, 19, 20, 21, 22, 23, 24, 25, 26, 27, 28, 29, 30, 31, 32, 33,\n",
       "        34, 35, 36, 37, 38, 39]),\n",
       " [Text(0, 0, 'ram'),\n",
       "  Text(1, 0, 'jeep'),\n",
       "  Text(2, 0, 'acura'),\n",
       "  Text(3, 0, 'chevrolet'),\n",
       "  Text(4, 0, 'toyota'),\n",
       "  Text(5, 0, 'ford'),\n",
       "  Text(6, 0, 'honda'),\n",
       "  Text(7, 0, 'dodge'),\n",
       "  Text(8, 0, 'gmc'),\n",
       "  Text(9, 0, 'bmw'),\n",
       "  Text(10, 0, 'chrysler'),\n",
       "  Text(11, 0, 'mazda'),\n",
       "  Text(12, 0, 'lexus'),\n",
       "  Text(13, 0, 'lincoln'),\n",
       "  Text(14, 0, 'mitsubishi'),\n",
       "  Text(15, 0, 'infiniti'),\n",
       "  Text(16, 0, 'buick'),\n",
       "  Text(17, 0, 'volkswagen'),\n",
       "  Text(18, 0, 'hyundai'),\n",
       "  Text(19, 0, 'jaguar'),\n",
       "  Text(20, 0, 'mini'),\n",
       "  Text(21, 0, 'mercedes-benz'),\n",
       "  Text(22, 0, 'nissan'),\n",
       "  Text(23, 0, 'subaru'),\n",
       "  Text(24, 0, 'audi'),\n",
       "  Text(25, 0, 'alfa-romeo'),\n",
       "  Text(26, 0, 'cadillac'),\n",
       "  Text(27, 0, 'tesla'),\n",
       "  Text(28, 0, 'mercury'),\n",
       "  Text(29, 0, 'kia'),\n",
       "  Text(30, 0, 'volvo'),\n",
       "  Text(31, 0, 'saturn'),\n",
       "  Text(32, 0, 'pontiac'),\n",
       "  Text(33, 0, 'porsche'),\n",
       "  Text(34, 0, 'rover'),\n",
       "  Text(35, 0, 'fiat'),\n",
       "  Text(36, 0, 'aston-martin'),\n",
       "  Text(37, 0, 'harley-davidson'),\n",
       "  Text(38, 0, 'ferrari'),\n",
       "  Text(39, 0, 'land rover')])"
      ]
     },
     "execution_count": 744,
     "metadata": {},
     "output_type": "execute_result"
    },
    {
     "data": {
      "image/png": "[encoded data removed]",
      "text/plain": [
       "<Figure size 432x288 with 1 Axes>"
      ]
     },
     "metadata": {
      "needs_background": "light"
     },
     "output_type": "display_data"
    }
   ],
   "source": [
    "sns.barplot(x = 'manufacturer', y = 'price', data = df);\n",
    "plt.xticks(rotation=45)"
   ]
  },
  {
   "cell_type": "code",
   "execution_count": 745,
   "metadata": {},
   "outputs": [
    {
     "data": {
      "image/png": "[encoded data removed]",
      "text/plain": [
       "<Figure size 432x288 with 1 Axes>"
      ]
     },
     "metadata": {
      "needs_background": "light"
     },
     "output_type": "display_data"
    }
   ],
   "source": [
    "sns.boxplot(x = 'transmission', y = 'price', data = df);"
   ]
  },
  {
   "cell_type": "code",
   "execution_count": 746,
   "metadata": {
    "scrolled": false
   },
   "outputs": [
    {
     "data": {
      "image/png": "[encoded data removed]",
      "text/plain": [
       "<Figure size 432x288 with 1 Axes>"
      ]
     },
     "metadata": {
      "needs_background": "light"
     },
     "output_type": "display_data"
    }
   ],
   "source": [
    "sns.boxplot(x = 'drive', y = 'price', data = df);"
   ]
  },
  {
   "cell_type": "code",
   "execution_count": 455,
   "metadata": {
    "scrolled": false
   },
   "outputs": [
    {
     "data": {
      "text/plain": [
       "<matplotlib.legend.Legend at 0x7f8ba1feb850>"
      ]
     },
     "execution_count": 455,
     "metadata": {},
     "output_type": "execute_result"
    },
    {
     "data": {
      "image/png": "[encoded data removed]",
      "text/plain": [
       "<Figure size 432x288 with 1 Axes>"
      ]
     },
     "metadata": {
      "needs_background": "light"
     },
     "output_type": "display_data"
    }
   ],
   "source": [
    "sns.boxplot(x = 'condition', y = 'price', data = df); \n",
    "plt.legend(labels = ['1: salvage','2: fair','3: good', '4: excellent',  '5: like new', '6: new', ],title= \"Condition\", loc = 'upper left')"
   ]
  },
  {
   "cell_type": "code",
   "execution_count": 456,
   "metadata": {
    "scrolled": true
   },
   "outputs": [
    {
     "data": {
      "image/png": "[encoded data removed]",
      "text/plain": [
       "<Figure size 432x288 with 1 Axes>"
      ]
     },
     "metadata": {
      "needs_background": "light"
     },
     "output_type": "display_data"
    }
   ],
   "source": [
    "sns.barplot(x = 'type', y = 'price', data = df);"
   ]
  },
  {
   "cell_type": "markdown",
   "metadata": {},
   "source": [
    "### Modeling\n",
    "\n",
    "With your (almost?) final dataset in hand, it is now time to build some models.  Here, you should build a number of different regression models with the price as the target.  In building your models, you should explore different parameters and be sure to cross-validate your findings."
   ]
  },
  {
   "cell_type": "code",
   "execution_count": 457,
   "metadata": {},
   "outputs": [],
   "source": [
    "#Train/Test split"
   ]
  },
  {
   "cell_type": "code",
   "execution_count": 458,
   "metadata": {},
   "outputs": [
    {
     "name": "stdout",
     "output_type": "stream",
     "text": [
      "<class 'pandas.core.frame.DataFrame'>\n",
      "Int64Index: 368433 entries, 345110 to 37773\n",
      "Data columns (total 18 columns):\n",
      " #   Column        Non-Null Count   Dtype  \n",
      "---  ------        --------------   -----  \n",
      " 0   id            368433 non-null  int64  \n",
      " 1   region        368433 non-null  object \n",
      " 2   price         368433 non-null  int64  \n",
      " 3   year          368433 non-null  int64  \n",
      " 4   manufacturer  368433 non-null  object \n",
      " 5   model         368433 non-null  object \n",
      " 6   condition     368433 non-null  int64  \n",
      " 7   cylinders     368433 non-null  int64  \n",
      " 8   fuel          368433 non-null  object \n",
      " 9   odometer      368433 non-null  float64\n",
      " 10  title_status  368433 non-null  object \n",
      " 11  transmission  368433 non-null  object \n",
      " 12  VIN           368433 non-null  object \n",
      " 13  drive         368433 non-null  object \n",
      " 14  size          368433 non-null  int64  \n",
      " 15  type          368433 non-null  object \n",
      " 16  paint_color   368433 non-null  object \n",
      " 17  state         368433 non-null  object \n",
      "dtypes: float64(1), int64(6), object(11)\n",
      "memory usage: 53.4+ MB\n"
     ]
    }
   ],
   "source": [
    "df.info()"
   ]
  },
  {
   "cell_type": "code",
   "execution_count": 494,
   "metadata": {},
   "outputs": [],
   "source": [
    "#### Numeric columns"
   ]
  },
  {
   "cell_type": "code",
   "execution_count": 495,
   "metadata": {},
   "outputs": [],
   "source": [
    "numeric_cols = ['id', 'price', 'year', 'condition','cylinders', 'odometer', 'size']\n",
    "df_numeric = df[numeric_cols].copy()"
   ]
  },
  {
   "cell_type": "code",
   "execution_count": 496,
   "metadata": {
    "scrolled": true
   },
   "outputs": [],
   "source": [
    "X = df_numeric.drop(columns = 'price', axis = 1)\n",
    "y = df_numeric['price']"
   ]
  },
  {
   "cell_type": "code",
   "execution_count": 497,
   "metadata": {},
   "outputs": [],
   "source": [
    "X_train, X_test, y_train, y_test = train_test_split(X, y, test_size = 0.20)"
   ]
  },
  {
   "cell_type": "code",
   "execution_count": 498,
   "metadata": {},
   "outputs": [],
   "source": [
    "#Linear Regression"
   ]
  },
  {
   "cell_type": "code",
   "execution_count": 499,
   "metadata": {},
   "outputs": [],
   "source": [
    "lr = LinearRegression()"
   ]
  },
  {
   "cell_type": "code",
   "execution_count": 500,
   "metadata": {
    "scrolled": true
   },
   "outputs": [
    {
     "name": "stdout",
     "output_type": "stream",
     "text": [
      "The value of lr_r2 is 0.37\n",
      "The value of lr rmse is 10437.86\n"
     ]
    }
   ],
   "source": [
    "# fit the model\n",
    "lr.fit(X_train, y_train)\n",
    "\n",
    "# coefficient of determination R^2 of the model (a.k.a. how well the model describes thte data)\n",
    "lr_r2 = (lr.score(X_train, y_train))\n",
    "print(\"The value of lr_r2 is {:.2f}\".format(lr_r2))\n",
    "\n",
    "# Predictions on test \n",
    "lr_predict = lr.predict(X_test)\n",
    "\n",
    "# rmse\n",
    "lr_rmse = mean_squared_error(y_test, lr_predict, squared = False)\n",
    "print(\"The value of lr rmse is {:.2f}\".format(lr_rmse))"
   ]
  },
  {
   "cell_type": "code",
   "execution_count": 501,
   "metadata": {},
   "outputs": [],
   "source": [
    "cols = ['year', 'cylinders', 'odometer']\n",
    "X = df_numeric.drop(columns = 'price', axis = 1)\n",
    "y = df_numeric['price']"
   ]
  },
  {
   "cell_type": "code",
   "execution_count": 502,
   "metadata": {},
   "outputs": [],
   "source": [
    "X_train_poly, X_test_poly, y_train_poly, y_test_poly = train_test_split(X, y, test_size = 0.20)"
   ]
  },
  {
   "cell_type": "code",
   "execution_count": 503,
   "metadata": {},
   "outputs": [
    {
     "name": "stdout",
     "output_type": "stream",
     "text": [
      "Train RMSE: 15516.16\n",
      "Test RMSE: 15523.79\n"
     ]
    }
   ],
   "source": [
    "pipe = Pipeline([ ('poly_features',PolynomialFeatures(degree = 2, include_bias = False)),\n",
    "                  ('linreg', LinearRegression()) ])\n",
    "pipe.fit(X_train_poly, y_train_poly)\n",
    "train_preds = pipe.predict(X_train_poly)\n",
    "test_preds = pipe.predict(X_test_poly)\n",
    "train_mse = float(mean_squared_error(train_preds, y_train, squared = False))\n",
    "test_mse = float(mean_squared_error(test_preds, y_test, squared = False))\n",
    "print('Train RMSE: {:.2f}'.format(train_mse))\n",
    "print('Test RMSE: {:.2f}'.format(test_mse))\n"
   ]
  },
  {
   "cell_type": "code",
   "execution_count": 471,
   "metadata": {},
   "outputs": [],
   "source": [
    "#### Categorical columns"
   ]
  },
  {
   "cell_type": "code",
   "execution_count": 504,
   "metadata": {
    "scrolled": true
   },
   "outputs": [
    {
     "data": {
      "text/html": [
       "<div>\n",
       "<style scoped>\n",
       "    .dataframe tbody tr th:only-of-type {\n",
       "        vertical-align: middle;\n",
       "    }\n",
       "\n",
       "    .dataframe tbody tr th {\n",
       "        vertical-align: top;\n",
       "    }\n",
       "\n",
       "    .dataframe thead th {\n",
       "        text-align: right;\n",
       "    }\n",
       "</style>\n",
       "<table border=\"1\" class=\"dataframe\">\n",
       "  <thead>\n",
       "    <tr style=\"text-align: right;\">\n",
       "      <th></th>\n",
       "      <th>region</th>\n",
       "      <th>manufacturer</th>\n",
       "      <th>model</th>\n",
       "      <th>fuel</th>\n",
       "      <th>title_status</th>\n",
       "      <th>transmission</th>\n",
       "      <th>VIN</th>\n",
       "      <th>drive</th>\n",
       "      <th>type</th>\n",
       "      <th>paint_color</th>\n",
       "      <th>state</th>\n",
       "    </tr>\n",
       "  </thead>\n",
       "  <tbody>\n",
       "    <tr>\n",
       "      <th>count</th>\n",
       "      <td>368433</td>\n",
       "      <td>368433</td>\n",
       "      <td>368433</td>\n",
       "      <td>368433</td>\n",
       "      <td>368433</td>\n",
       "      <td>368433</td>\n",
       "      <td>368433</td>\n",
       "      <td>368433</td>\n",
       "      <td>368433</td>\n",
       "      <td>368433</td>\n",
       "      <td>368433</td>\n",
       "    </tr>\n",
       "    <tr>\n",
       "      <th>unique</th>\n",
       "      <td>404</td>\n",
       "      <td>40</td>\n",
       "      <td>19309</td>\n",
       "      <td>5</td>\n",
       "      <td>6</td>\n",
       "      <td>3</td>\n",
       "      <td>104692</td>\n",
       "      <td>4</td>\n",
       "      <td>14</td>\n",
       "      <td>13</td>\n",
       "      <td>51</td>\n",
       "    </tr>\n",
       "    <tr>\n",
       "      <th>top</th>\n",
       "      <td>columbus</td>\n",
       "      <td>ford</td>\n",
       "      <td>f-150</td>\n",
       "      <td>gas</td>\n",
       "      <td>clean</td>\n",
       "      <td>automatic</td>\n",
       "      <td>not specified</td>\n",
       "      <td>4wd</td>\n",
       "      <td>sedan</td>\n",
       "      <td>not specified</td>\n",
       "      <td>ca</td>\n",
       "    </tr>\n",
       "    <tr>\n",
       "      <th>freq</th>\n",
       "      <td>3201</td>\n",
       "      <td>62162</td>\n",
       "      <td>7477</td>\n",
       "      <td>313944</td>\n",
       "      <td>356757</td>\n",
       "      <td>293338</td>\n",
       "      <td>132295</td>\n",
       "      <td>116172</td>\n",
       "      <td>79583</td>\n",
       "      <td>105701</td>\n",
       "      <td>42333</td>\n",
       "    </tr>\n",
       "  </tbody>\n",
       "</table>\n",
       "</div>"
      ],
      "text/plain": [
       "          region manufacturer   model    fuel title_status transmission  \\\n",
       "count     368433       368433  368433  368433       368433       368433   \n",
       "unique       404           40   19309       5            6            3   \n",
       "top     columbus         ford   f-150     gas        clean    automatic   \n",
       "freq        3201        62162    7477  313944       356757       293338   \n",
       "\n",
       "                  VIN   drive    type    paint_color   state  \n",
       "count          368433  368433  368433         368433  368433  \n",
       "unique         104692       4      14             13      51  \n",
       "top     not specified     4wd   sedan  not specified      ca  \n",
       "freq           132295  116172   79583         105701   42333  "
      ]
     },
     "execution_count": 504,
     "metadata": {},
     "output_type": "execute_result"
    }
   ],
   "source": [
    "#Let's focus on certain columns for which we then will use the dummies for\n",
    "#View only string columns and see how manly unique values each one contains.\n",
    "df.select_dtypes(\"object\").describe()"
   ]
  },
  {
   "cell_type": "code",
   "execution_count": 505,
   "metadata": {},
   "outputs": [],
   "source": [
    "#Let's pick some low cardinality and/or high impact columns\n",
    "string_cols = ['manufacturer', 'fuel', 'transmission', 'drive']"
   ]
  },
  {
   "cell_type": "code",
   "execution_count": 506,
   "metadata": {},
   "outputs": [],
   "source": [
    "all_columns = string_cols + numeric_cols"
   ]
  },
  {
   "cell_type": "code",
   "execution_count": 507,
   "metadata": {},
   "outputs": [],
   "source": [
    "df_final = df[all_columns].copy()"
   ]
  },
  {
   "cell_type": "code",
   "execution_count": 508,
   "metadata": {},
   "outputs": [
    {
     "data": {
      "text/plain": [
       "(368433, 11)"
      ]
     },
     "execution_count": 508,
     "metadata": {},
     "output_type": "execute_result"
    }
   ],
   "source": [
    "df_final.shape"
   ]
  },
  {
   "cell_type": "code",
   "execution_count": 509,
   "metadata": {
    "scrolled": true
   },
   "outputs": [],
   "source": [
    "#Get dummies \n",
    "df_final_w_dummies = pd.get_dummies(df_final, drop_first = True)"
   ]
  },
  {
   "cell_type": "code",
   "execution_count": 510,
   "metadata": {},
   "outputs": [
    {
     "data": {
      "text/plain": [
       "(368433, 55)"
      ]
     },
     "execution_count": 510,
     "metadata": {},
     "output_type": "execute_result"
    }
   ],
   "source": [
    "df_final_w_dummies.shape"
   ]
  },
  {
   "cell_type": "code",
   "execution_count": 511,
   "metadata": {},
   "outputs": [],
   "source": [
    "X = df_final_w_dummies.drop(columns = 'price')\n",
    "y = df_final_w_dummies['price']"
   ]
  },
  {
   "cell_type": "code",
   "execution_count": 512,
   "metadata": {},
   "outputs": [],
   "source": [
    "X_train, X_test, y_train, y_test = train_test_split(X, y, test_size = 0.20)"
   ]
  },
  {
   "cell_type": "code",
   "execution_count": 513,
   "metadata": {},
   "outputs": [],
   "source": [
    "lr = LinearRegression()"
   ]
  },
  {
   "cell_type": "code",
   "execution_count": 514,
   "metadata": {},
   "outputs": [
    {
     "name": "stdout",
     "output_type": "stream",
     "text": [
      "The value of lr_r2 is 0.48\n",
      "The value of lr rmse is 9550.68\n"
     ]
    }
   ],
   "source": [
    "# fit the model\n",
    "lr.fit(X_train, y_train)\n",
    "\n",
    "# coefficient of determination R^2 of the model (a.k.a. how well the model describes thte data)\n",
    "lr_r2_dummy = (lr.score(X_train, y_train))\n",
    "print(\"The value of lr_r2 is {:.2f}\".format(lr_r2_dummy))\n",
    "\n",
    "# Predictions on test \n",
    "lr_predict_dummy = lr.predict(X_test)\n",
    "\n",
    "# rmse\n",
    "lr_rmse_dummy = mean_squared_error(y_test, lr_predict_dummy, squared = False)\n",
    "print(\"The value of lr rmse is {:.2f}\".format(lr_rmse_dummy))"
   ]
  },
  {
   "cell_type": "code",
   "execution_count": 516,
   "metadata": {},
   "outputs": [],
   "source": [
    "#Scaling"
   ]
  },
  {
   "cell_type": "code",
   "execution_count": 517,
   "metadata": {},
   "outputs": [],
   "source": [
    "# Intiate the Standard Scaler\n",
    "scale = StandardScaler()\n",
    "\n",
    "# fit transform on the train data\n",
    "X_train_transformed = scale.fit_transform(X_train)\n",
    "\n",
    "# Test data\n",
    "X_test_transformed = scale.transform(X_test)"
   ]
  },
  {
   "cell_type": "code",
   "execution_count": 518,
   "metadata": {},
   "outputs": [],
   "source": [
    "X_train_transformed = pd.DataFrame(X_train_transformed, columns = X_train.columns)"
   ]
  },
  {
   "cell_type": "code",
   "execution_count": 519,
   "metadata": {},
   "outputs": [],
   "source": [
    "X_test_transformed = pd.DataFrame(X_test_transformed, columns = X_test.columns)"
   ]
  },
  {
   "cell_type": "code",
   "execution_count": 520,
   "metadata": {},
   "outputs": [],
   "source": [
    "### Lasso and Ridge"
   ]
  },
  {
   "cell_type": "code",
   "execution_count": 521,
   "metadata": {},
   "outputs": [],
   "source": [
    "params_dict = {'alpha': np.linspace(0.5, 100, num=50)}"
   ]
  },
  {
   "cell_type": "code",
   "execution_count": 524,
   "metadata": {},
   "outputs": [
    {
     "name": "stdout",
     "output_type": "stream",
     "text": [
      "Test RMSE: 9550.68391214963\n",
      "Best Alpha: 39.08163265306123\n"
     ]
    }
   ],
   "source": [
    "grid = GridSearchCV(estimator = Ridge(), \n",
    "                    param_grid = params_dict, \n",
    "                    scoring = \"neg_mean_squared_error\",\n",
    "                    cv = 5)\n",
    "grid.fit(X_train_transformed, y_train)\n",
    "train_mse = mean_squared_error(grid.predict(X_train_transformed), y_train, squared = False)\n",
    "test_mse = mean_squared_error(grid.predict(X_test_transformed), y_test, squared = False)\n",
    "best_alpha = grid.best_params_\n",
    "\n",
    "\n",
    "print(f'Test RMSE: {test_mse}')\n",
    "print(f'Best Alpha: {list(best_alpha.values())[0]}')"
   ]
  },
  {
   "cell_type": "code",
   "execution_count": 490,
   "metadata": {},
   "outputs": [
    {
     "name": "stdout",
     "output_type": "stream",
     "text": [
      "Test RMSE: 9509.099901155769\n",
      "Best Alpha: 0.5\n"
     ]
    }
   ],
   "source": [
    "grid = GridSearchCV(estimator = Lasso(), \n",
    "                    param_grid = params_dict, \n",
    "                    scoring = \"neg_mean_squared_error\",\n",
    "                    cv = 5)\n",
    "grid.fit(X_train_transformed, y_train)\n",
    "train_mse = mean_squared_error(grid.predict(X_train_transformed), y_train, squared = False)\n",
    "test_mse = mean_squared_error(grid.predict(X_test_transformed), y_test, squared = False)\n",
    "best_alpha = grid.best_params_\n",
    "\n",
    "\n",
    "print(f'Test RMSE: {test_mse}')\n",
    "print(f'Best Alpha: {list(best_alpha.values())[0]}')"
   ]
  },
  {
   "cell_type": "code",
   "execution_count": 525,
   "metadata": {},
   "outputs": [
    {
     "data": {
      "text/plain": [
       "LinearRegression()"
      ]
     },
     "execution_count": 525,
     "metadata": {},
     "output_type": "execute_result"
    }
   ],
   "source": [
    "ridge = Ridge(alpha = 39)\n",
    "ridge.fit(X_train_transformed, y_train)\n",
    "\n",
    "lasso = Lasso(alpha = 0.5)\n",
    "lasso.fit(X_train_transformed, y_train)\n",
    "\n",
    "lin = LinearRegression()\n",
    "lin.fit(X_train_transformed, y_train)"
   ]
  },
  {
   "cell_type": "code",
   "execution_count": 526,
   "metadata": {},
   "outputs": [],
   "source": [
    "ridge_train_preds = ridge.predict(X_train_transformed)\n",
    "ridge_test_preds = ridge.predict(X_test_transformed)\n",
    "\n",
    "lasso_train_preds = lasso.predict(X_train_transformed)\n",
    "lasso_test_preds = lasso.predict(X_test_transformed)\n",
    "\n",
    "lin_train_preds = lin.predict(X_train_transformed)\n",
    "lin_test_preds = lin.predict(X_test_transformed)"
   ]
  },
  {
   "cell_type": "code",
   "execution_count": 530,
   "metadata": {
    "scrolled": false
   },
   "outputs": [
    {
     "name": "stdout",
     "output_type": "stream",
     "text": [
      "Ridge Train MSE: 9473.72\n",
      "Ridge Test MSE: 9550.68\n",
      "Lasso Train MSE: 9473.73\n",
      "Lasso Test MSE: 9550.73\n",
      "Lin Train MSE: 9473.72\n",
      "Lin Test MSE: 9550.68\n"
     ]
    }
   ],
   "source": [
    "ridge_train_mse = mean_squared_error(y_train, ridge_train_preds, squared = False)\n",
    "ridge_test_mse = mean_squared_error(y_test, ridge_test_preds, squared = False)\n",
    "\n",
    "lasso_train_mse = mean_squared_error(y_train, lasso_train_preds, squared = False)\n",
    "lasso_test_mse = mean_squared_error(y_test, lasso_test_preds, squared = False)\n",
    "\n",
    "lin_train_mse = mean_squared_error(y_train, lin_train_preds, squared = False)\n",
    "lin_test_mse = mean_squared_error(y_test, lin_test_preds, squared = False)\n",
    "\n",
    "print('Ridge Train MSE: {:.2f}'.format(ridge_train_mse))\n",
    "print('Ridge Test MSE: {:.2f}'.format(ridge_test_mse))\n",
    "print('Lasso Train MSE: {:.2f}'.format(lasso_train_mse))\n",
    "print('Lasso Test MSE: {:.2f}'.format(lasso_test_mse))\n",
    "print('Lin Train MSE: {:.2f}'.format(lin_train_mse))\n",
    "print('Lin Test MSE: {:.2f}'.format(lin_test_mse))"
   ]
  },
  {
   "cell_type": "code",
   "execution_count": 539,
   "metadata": {},
   "outputs": [],
   "source": [
    "from sklearn.model_selection import cross_val_score"
   ]
  },
  {
   "cell_type": "code",
   "execution_count": 536,
   "metadata": {
    "scrolled": true
   },
   "outputs": [
    {
     "name": "stdout",
     "output_type": "stream",
     "text": [
      "[0.48251344 0.48032594 0.47551824 0.48121205 0.48266068]\n",
      "0.48044606963487413\n"
     ]
    }
   ],
   "source": [
    "all_accurancies = cross_val_score(estimator=Lasso(alpha = .5), X=X_train_transformed, y=y_train, cv=5)\n",
    "print(all_accurancies)\n",
    "print(all_accurancies.mean())"
   ]
  },
  {
   "cell_type": "code",
   "execution_count": 537,
   "metadata": {},
   "outputs": [
    {
     "name": "stdout",
     "output_type": "stream",
     "text": [
      "[0.48251534 0.48032277 0.4755134  0.48121279 0.48266514]\n",
      "0.4804458877434173\n"
     ]
    }
   ],
   "source": [
    "all_accurancies = cross_val_score(estimator=Ridge(alpha = 39), X=X_train_transformed, y=y_train, cv=5)\n",
    "print(all_accurancies)\n",
    "print(all_accurancies.mean())"
   ]
  },
  {
   "cell_type": "code",
   "execution_count": 538,
   "metadata": {},
   "outputs": [
    {
     "name": "stdout",
     "output_type": "stream",
     "text": [
      "[0.48251641 0.48032177 0.47551089 0.48121386 0.48266634]\n",
      "0.4804458529683312\n"
     ]
    }
   ],
   "source": [
    "all_accurancies = cross_val_score(estimator=LinearRegression(), X=X_train_transformed, y=y_train, cv=5)\n",
    "print(all_accurancies)\n",
    "print(all_accurancies.mean())"
   ]
  },
  {
   "cell_type": "markdown",
   "metadata": {},
   "source": [
    "### Evaluation \n",
    "With some modeling accomplished, we aim to reflect on what we identify as a high quality model and what we are able to learn from this. We should review our business objective and explore how well we can provide meaningful insight on drivers of used car prices. Your goal now is to distill your findings and determine whether the earlier phases need revisitation and adjustment or if you have information of value to bring back to your client."
   ]
  },
  {
   "cell_type": "code",
   "execution_count": null,
   "metadata": {},
   "outputs": [],
   "source": []
  },
  {
   "cell_type": "code",
   "execution_count": null,
   "metadata": {},
   "outputs": [],
   "source": []
  },
  {
   "cell_type": "code",
   "execution_count": null,
   "metadata": {},
   "outputs": [],
   "source": []
  },
  {
   "cell_type": "code",
   "execution_count": null,
   "metadata": {},
   "outputs": [],
   "source": []
  },
  {
   "cell_type": "markdown",
   "metadata": {},
   "source": [
    "### Deployment\n",
    "\n",
    "Now that we've settled on our models and findings, it is time to deliver the information to the client.  You should organize your work as a basic report that details your primary findings.  Keep in mind that your audience is a group of used car dealers interested in fine tuning their inventory."
   ]
  },
  {
   "cell_type": "code",
   "execution_count": null,
   "metadata": {},
   "outputs": [],
   "source": []
  },
  {
   "cell_type": "code",
   "execution_count": null,
   "metadata": {},
   "outputs": [],
   "source": []
  },
  {
   "cell_type": "code",
   "execution_count": null,
   "metadata": {},
   "outputs": [],
   "source": []
  },
  {
   "cell_type": "code",
   "execution_count": null,
   "metadata": {},
   "outputs": [],
   "source": []
  },
  {
   "cell_type": "code",
   "execution_count": null,
   "metadata": {},
   "outputs": [],
   "source": []
  },
  {
   "cell_type": "code",
   "execution_count": null,
   "metadata": {},
   "outputs": [],
   "source": []
  },
  {
   "cell_type": "code",
   "execution_count": null,
   "metadata": {},
   "outputs": [],
   "source": []
  }
 ],
 "metadata": {
  "kernelspec": {
   "display_name": "Python 3 (ipykernel)",
   "language": "python",
   "name": "python3"
  },
  "language_info": {
   "codemirror_mode": {
    "name": "ipython",
    "version": 3
   },
   "file_extension": ".py",
   "mimetype": "text/x-python",
   "name": "python",
   "nbconvert_exporter": "python",
   "pygments_lexer": "ipython3",
   "version": "3.9.12"
  },
  "widgets": {
   "application/vnd.jupyter.widget-state+json": {
    "state": {},
    "version_major": 2,
    "version_minor": 0
   }
  }
 },
 "nbformat": 4,
 "nbformat_minor": 4
}
